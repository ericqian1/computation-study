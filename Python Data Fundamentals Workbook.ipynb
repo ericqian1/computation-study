{
 "cells": [
  {
   "cell_type": "markdown",
   "id": "c701c993",
   "metadata": {},
   "source": [
    "## Function Definitions"
   ]
  },
  {
   "cell_type": "code",
   "execution_count": 4,
   "id": "8bc16cb1",
   "metadata": {},
   "outputs": [],
   "source": [
    "import timeit\n",
    "from numba import njit\n",
    "import pandas as pd\n",
    "import numpy as np\n",
    "from datetime import datetime\n"
   ]
  },
  {
   "cell_type": "markdown",
   "id": "3ca5ca7c",
   "metadata": {},
   "source": [
    "## Generate a dataset "
   ]
  },
  {
   "cell_type": "code",
   "execution_count": 2,
   "id": "efb2dc49",
   "metadata": {},
   "outputs": [],
   "source": [
    "strings = {0: \"run\",\n",
    "          1: \"fly\",\n",
    "          2: \"walk\",\n",
    "          3: \"sprint\",\n",
    "          4: \"job\",\n",
    "          5: \"trot\"}\n",
    "\n",
    "str_func = lambda x: strings[x]\n",
    "\n",
    "data_range = np.arange(1600000000, 1603000000, 1)\n",
    "random_range_1 = 100*np.random.rand(len(data_range))\n",
    "random_range_2 = 200*np.random.rand(len(data_range))\n",
    "vfunc = np.vectorize(str_func)\n",
    "string_range = vfunc(np.random.randint(6, size=len(data_range)))\n",
    "df = pd.DataFrame({\"ts\": data_range, \"vals_1\": random_range_1, \"strs\": string_range, \"vals_2\": random_range_2,})"
   ]
  },
  {
   "cell_type": "markdown",
   "id": "4e856f54",
   "metadata": {},
   "source": [
    "## Read and write"
   ]
  },
  {
   "cell_type": "code",
   "execution_count": 5,
   "id": "970e8d02",
   "metadata": {},
   "outputs": [
    {
     "name": "stdout",
     "output_type": "stream",
     "text": [
      "Testing an excel upload\n",
      "30.8 s ± 7.01 s per loop (mean ± std. dev. of 7 runs, 1 loop each)\n",
      "Testing an CSV upload\n",
      "11 s ± 2.56 s per loop (mean ± std. dev. of 7 runs, 1 loop each)\n",
      "Testing an parquet upload\n",
      "614 ms ± 37.3 ms per loop (mean ± std. dev. of 7 runs, 1 loop each)\n"
     ]
    }
   ],
   "source": [
    "# Individual runtime tests\n",
    "\n",
    "print(\"Testing an excel upload\")\n",
    "# Dont run this actually, super slow\n",
    "%timeit df[0:200000].to_excel(\"big_data/dataset.xlsx\", index=False)\n",
    "print(\"Testing an CSV upload\")\n",
    "%timeit df.to_csv(\"big_data/dataset.csv\", index=False)\n",
    "print(\"Testing an parquet upload\")\n",
    "%timeit df.to_parquet(\"big_data/dataset.parquet\", index=False)"
   ]
  },
  {
   "cell_type": "code",
   "execution_count": 6,
   "id": "d8648b0e",
   "metadata": {},
   "outputs": [
    {
     "name": "stdout",
     "output_type": "stream",
     "text": [
      "Testing an excel read\n",
      "22 s ± 2.32 s per loop (mean ± std. dev. of 7 runs, 1 loop each)\n",
      "Testing an CSV read\n",
      "1.28 s ± 137 ms per loop (mean ± std. dev. of 7 runs, 1 loop each)\n",
      "Testing an parquet read\n",
      "292 ms ± 24.8 ms per loop (mean ± std. dev. of 7 runs, 1 loop each)\n"
     ]
    }
   ],
   "source": [
    "# Individual runtime tests\n",
    "\n",
    "print(\"Testing an excel read\")\n",
    "# Dont run this actually, super slow\n",
    "%timeit pd.read_excel(\"big_data/dataset.xlsx\")\n",
    "print(\"Testing an CSV read\")\n",
    "%timeit pd.read_csv(\"big_data/dataset.csv\")\n",
    "print(\"Testing an parquet read\")\n",
    "%timeit pd.read_parquet(\"big_data/dataset.parquet\")"
   ]
  },
  {
   "cell_type": "code",
   "execution_count": 26,
   "id": "70bde546",
   "metadata": {},
   "outputs": [],
   "source": [
    "# Profiling several loads\n",
    "\n",
    "def test_runtime(func, args=[], kwargs={}):\n",
    "    # Test runtime, but we will use timeit function\n",
    "    test = datetime.now()\n",
    "    output = func(*args, **kwargs)\n",
    "    elapsed = datetime.now() - test\n",
    "    print(f\"Function ran in {datetime.now() - test}\")\n",
    "    return output, elapsed\n",
    "\n",
    "\n",
    "# Using generators for memory safe iterations - only stores the state and keeps the cache clean\n",
    "#\n",
    "#   def func(iters):\n",
    "#      for iter in iters:\n",
    "#          yield something\n",
    "#\n",
    "\n",
    "def profile_runtimes(all_funcs, all_args, all_kwargs):\n",
    "    # Test set of loadtimes and return as a \n",
    "    for func, args, kwargs in zip(all_funcs, all_args, all_kwargs):\n",
    "        test = datetime.now()\n",
    "        output = func(*args, **kwargs)\n",
    "        elapsed = datetime.now() - test\n",
    "        yield elapsed\n",
    "    \n",
    "upper_bounds = [1000, 5000, 10000, 50000, 100000, 500000, 1000000, 3000000]\n",
    "\n",
    "csv_funcs = [df[0:upper].to_csv for upper in upper_bounds]\n",
    "csv_args = [[f\"big_data/dataset_{upper}.csv\"] for upper in upper_bounds]\n",
    "csv_kwargs = [{} for upper in upper_bounds]\n",
    "\n",
    "pq_funcs = [df[0:upper].to_parquet for upper in upper_bounds]\n",
    "pq_args = [[f\"big_data/dataset_{upper}.parquet\"] for upper in upper_bounds]\n",
    "pq_kwargs = [{} for upper in upper_bounds]\n",
    "\n",
    "csv_runtimes =[elapsed.total_seconds() for elapsed in profile_runtimes(csv_funcs, csv_args, csv_kwargs)]\n",
    "pq_runtimes =[elapsed.total_seconds() for elapsed in profile_runtimes(pq_funcs, pq_args, pq_kwargs)]\n"
   ]
  },
  {
   "cell_type": "code",
   "execution_count": 29,
   "id": "6270a88a",
   "metadata": {},
   "outputs": [
    {
     "data": {
      "text/plain": [
       "Text(0.5, 1.0, 'Runtime profiling data writing')"
      ]
     },
     "execution_count": 29,
     "metadata": {},
     "output_type": "execute_result"
    },
    {
     "data": {
      "image/png": "[encoded data removed]",
      "text/plain": [
       "<Figure size 720x576 with 1 Axes>"
      ]
     },
     "metadata": {
      "needs_background": "light"
     },
     "output_type": "display_data"
    }
   ],
   "source": [
    "import matplotlib.pyplot as plt\n",
    "plt.rcParams[\"figure.figsize\"] = [10, 8]\n",
    "\n",
    "plt.plot(np.log10(upper_bounds), pq_runtimes, label=\"Parquet upload\")\n",
    "plt.plot(np.log10(upper_bounds), csv_runtimes, label=\"CSV upload\")\n",
    "plt.xlabel(\"Log base 10 row count\")\n",
    "plt.ylabel(\"Runtime in seconds\")\n",
    "plt.legend()\n",
    "plt.title(\"Runtime profiling data writing\")"
   ]
  },
  {
   "cell_type": "markdown",
   "id": "bbb9ca23",
   "metadata": {},
   "source": [
    "## Concepts\n",
    "\n",
    "\n",
    "### Runtime profiling\n",
    "\n",
    "We can use functions like timeit and runtime curves to understand how our runtime will evolve with different dataset sizes.\n",
    "\n",
    "### File formats\n",
    "\n",
    "- CSV: binary file of data\n",
    "- Parquet: binary file of data with columnar data.  Divides data into chunks.  Efficient with bigger data.  Pandas needs a parquet engine defined, the default is pyarrow.  There is also fastparquet which is more lightweight. Columnar stores are an order more efficient than row-based storage\n",
    "\n",
    "https://medium.com/23andme-engineering/genetic-datastore-4b213256db31\n",
    "\n",
    "https://towardsdatascience.com/understanding-apache-parquet-7197ba6462a9\n",
    "\n",
    "https://blog.matthewrathbone.com/2019/11/21/guide-to-columnar-file-formats.html\n",
    "\n",
    "- .xlsx/.xlsm: uses an XML schema which is far more difficult to read than binary\n",
    "- You can also write to dict and then to .json formats, but in any case binary formats are far faster particularly compared to XML formats"
   ]
  },
  {
   "cell_type": "markdown",
   "id": "52b6a311",
   "metadata": {},
   "source": [
    "# Pandas and Numpy Operations\n",
    "\n",
    "https://stackoverflow.com/questions/52673285/performance-of-pandas-apply-vs-np-vectorize-to-create-new-column-from-existing-c\n",
    "\n",
    "Rule of thumb: vectorize as much as possible and do as little custom functions as possible.  Generally, using pandas and numpy paradigms allows for performance gains as, when possible, the operations will be performed in the LLVM as compiled C code.  \n",
    "\n",
    "We will apply the concepts above to test runtimes"
   ]
  },
  {
   "cell_type": "markdown",
   "id": "8018e419",
   "metadata": {},
   "source": [
    "### Rounding/Vectorization"
   ]
  },
  {
   "cell_type": "code",
   "execution_count": 3,
   "id": "97b5de85",
   "metadata": {},
   "outputs": [
    {
     "name": "stdout",
     "output_type": "stream",
     "text": [
      "Testing df.apply round\n",
      "16.8 s ± 1.26 s per loop (mean ± std. dev. of 7 runs, 1 loop each)\n",
      "Testing numpy\n",
      "162 ms ± 5.18 ms per loop (mean ± std. dev. of 7 runs, 10 loops each)\n",
      "Testing a dataframe arithmetic operation\n",
      "94.2 ms ± 4.49 ms per loop (mean ± std. dev. of 7 runs, 10 loops each)\n",
      "Testing base Python only\n",
      "650 ms ± 47.1 ms per loop (mean ± std. dev. of 7 runs, 1 loop each)\n"
     ]
    }
   ],
   "source": [
    "# Apply round\n",
    "print(\"Testing df.apply round\")\n",
    "%timeit df[\"vals_1\"].apply(np.round)\n",
    "\n",
    "# Just numpy round\n",
    "print(\"Testing numpy\")\n",
    "%timeit np.round(df[\"vals_1\"])\n",
    "\n",
    "# We can also use a trick, +.5 and floor\n",
    "print(\"Testing a dataframe arithmetic operation\")\n",
    "%timeit (df[\"vals_1\"]+.5)//1\n",
    "\n",
    "# What if we used based Python methods?\n",
    "print(\"Testing base Python only\")\n",
    "vals_1 = df[\"vals_1\"].to_list()\n",
    "%timeit [round(x) for x in vals_1]\n"
   ]
  },
  {
   "cell_type": "markdown",
   "id": "87a01f14",
   "metadata": {},
   "source": [
    "The apply function is explicitly non-vectorized, accesses each element in the dataframe and individually.\n",
    "\n",
    "WHY IS THE PERFORMANCE GAIN SO HIGH WITH NUMPY? B/c of strict typecasting and implementation of compiled C-code.  We do not have to check for different types aka we are generally sure if there is floating point, integer, or long, and can safely run our C-code, which does not allow for dynamic arrays.\n",
    "\n",
    "From https://www.pythonlikeyoumeanit.com/Module3_IntroducingNumpy/VectorizedOperations.html\n",
    "\n",
    "- Recall that NumPy’s ND-arrays are homogeneous: an array can only contain data of a single type. For instance, an array can contain 8-bit integers or 32-bit floating point numbers, but not a mix of the two. This is in stark contrast to Python’s lists and tuples, which are entirely unrestricted in the variety of contents they can possess; a given list could simultaneously contain strings, integers, and other objects. This restriction on an array’s contents comes at a great benefit; in “knowing” that an array’s contents are homogeneous in data type, NumPy is able to delegate the task of performing mathematical operations on the array’s contents to optimized, compiled C code. This is a process that is referred to as vectorization. The outcome of this can be a tremendous speedup relative to the analogous computation performed in Python, which must painstakingly check the data type of every one of the items as it iterates over the arrays, since Python typically works with lists with unrestricted contents.\n",
    "\n",
    "\n",
    "- The Pandas apply is the slowest, because of high overhead and memory associated with the dataframe/pandas series.  The base python implementation is second slowest.  When we call native Pandas and Numpy functions, we can access the compiled C-code for the best runtime.  \n",
    "\n",
    "Why might the trick be the fastest?"
   ]
  },
  {
   "cell_type": "markdown",
   "id": "387055e6",
   "metadata": {},
   "source": [
    "### Datetime manipulation\n",
    "\n",
    "Almost all structured data involve a timestamp and datetime operations can be extremely costly.  We can improve strongly by smartly interacting with datetimes.\n",
    "\n",
    "What are some things we can do to best interact with datetimes?\n",
    "\n",
    "Rule of thumbs:\n",
    "- pd.to_datetime is your best friend!\n",
    "- NEVER do .apply"
   ]
  },
  {
   "cell_type": "code",
   "execution_count": 59,
   "id": "bec0ada3",
   "metadata": {},
   "outputs": [
    {
     "name": "stdout",
     "output_type": "stream",
     "text": [
      "78.4 ms ± 4.97 ms per loop (mean ± std. dev. of 7 runs, 10 loops each)\n"
     ]
    }
   ],
   "source": [
    "df[\"dt\"] = pd.to_datetime(df[\"ts\"], unit=\"s\")\n",
    "%timeit pd.to_datetime(df[\"ts\"], unit=\"s\")"
   ]
  },
  {
   "cell_type": "markdown",
   "id": "bc9a9abe",
   "metadata": {},
   "source": [
    "The .dt. accessor is extremely powerful in accessing native datetime functions, never do df.apply(datetime.func()), but you can see it's still pretty slow as datetime is a large object\n"
   ]
  },
  {
   "cell_type": "code",
   "execution_count": 60,
   "id": "f4c1798d",
   "metadata": {},
   "outputs": [
    {
     "name": "stdout",
     "output_type": "stream",
     "text": [
      "23.4 s ± 1.71 s per loop (mean ± std. dev. of 7 runs, 1 loop each)\n"
     ]
    }
   ],
   "source": [
    "%timeit df[\"dt\"].dt.strftime(\"%Y-%m-%d\")\n"
   ]
  },
  {
   "cell_type": "code",
   "execution_count": 92,
   "id": "d697bffe",
   "metadata": {},
   "outputs": [
    {
     "name": "stdout",
     "output_type": "stream",
     "text": [
      "Pandas vectorized operation\n",
      "35.9 ms ± 2.13 ms per loop (mean ± std. dev. of 7 runs, 10 loops each)\n",
      "Simply utilize timestamps\n",
      "3.35 ms ± 152 µs per loop (mean ± std. dev. of 7 runs, 100 loops each)\n"
     ]
    }
   ],
   "source": [
    "# Let's try a UTC to CST conversion\n",
    "from dateutil.relativedelta import relativedelta\n",
    "\n",
    "# Never use this\n",
    "# print(\"Non vectorized operation\")\n",
    "# %timeit [dt + relativedelta(hours=6) for dt in df[\"dt\"]]\n",
    "print(\"Pandas vectorized operation\")\n",
    "%timeit df[\"dt\"] + pd.to_timedelta(6,'h') \n",
    "print(\"Simply utilize timestamps\")\n",
    "%timeit df[\"ts\"]+3600*6"
   ]
  },
  {
   "cell_type": "markdown",
   "id": "70762996",
   "metadata": {},
   "source": [
    "At the basis of any datetime based function is probably a Unix timestamp of some precision.  These timestamps start at 1970-01-01 as 0 seconds and can be some set precision (in our example, seconds).  This allows for us to easily perform computations with floating point or integer vs more complex datetime data structures.\n",
    "\n",
    "Also, the pd.to_datetime() function returns the pd.Timestamp object, analogous to the native datetime.datetime object, and not to be confused with the Unix timestamps "
   ]
  },
  {
   "cell_type": "code",
   "execution_count": 83,
   "id": "c3093fec",
   "metadata": {},
   "outputs": [
    {
     "name": "stdout",
     "output_type": "stream",
     "text": [
      "1600000000.0\n"
     ]
    }
   ],
   "source": [
    "print(df[\"dt\"].iloc[0].timestamp())"
   ]
  },
  {
   "cell_type": "code",
   "execution_count": 95,
   "id": "ab95dc71",
   "metadata": {},
   "outputs": [
    {
     "name": "stdout",
     "output_type": "stream",
     "text": [
      "The runtime cost of conversion\n",
      "8.55 ms ± 255 µs per loop (mean ± std. dev. of 7 runs, 100 loops each)\n",
      "The total runtime is still lower than vectorized datetime operations\n",
      "31 ms ± 4.99 ms per loop (mean ± std. dev. of 7 runs, 10 loops each)\n"
     ]
    }
   ],
   "source": [
    "# Converting back from pd.Timestamp to datetime, just evoke .astype() to a numpy int64 with ns precision\n",
    "print(\"The runtime cost of conversion\")\n",
    "%timeit df[\"dt\"].astype(np.int64)\n",
    "print(\"The total runtime is still lower than vectorized datetime operations\")\n",
    "%timeit df[\"dt\"].astype(np.int64)/1000000000+3600*6\n"
   ]
  },
  {
   "cell_type": "markdown",
   "id": "ea540f92",
   "metadata": {},
   "source": [
    "### Custom functions, algorithmic thinking\n",
    "\n",
    "I want to quantify if vals_1 is a random walk, and the path that vals_1 moves on.  \n",
    "\n",
    "To do this, I want to solve for a moving counter $C_t$ that starts at 0.\n",
    "\n",
    "$C_0=0$\n",
    "\n",
    "At every $X_t$, solve for $X_t-X_{t-1}$\n",
    "\n",
    "If $X_t-X_{t-1} > 0, C_t = C_{t-1} + 1$\n",
    "\n",
    "Else if $X_t-X_{t-1} < 0, C_t = C_{t-1} - 1$\n",
    "\n",
    "Else $C_t = C_{t-1} $ \n",
    "\n",
    "where X is vals_1\n",
    "\n",
    "Basically, subtract the last value from the current value and add 1 to a counter if it's greater than 0, subtract 1 if less, and keep same if 0.  The array should already be sorted by ts, so simply operate on vals_1.  Keep a running total and project it to the dataset."
   ]
  },
  {
   "cell_type": "code",
   "execution_count": 103,
   "id": "5acbf2da",
   "metadata": {},
   "outputs": [],
   "source": [
    "### Try it yourself and time it\n",
    "\n",
    "def custom_walk(## Decide your input):\n",
    "    return \n",
    "    \n",
    "%timeit custom_walk(## Decide your input)"
   ]
  },
  {
   "cell_type": "code",
   "execution_count": 104,
   "id": "ce0ab9cb",
   "metadata": {
    "tags": [
     "hide_cell"
    ]
   },
   "outputs": [],
   "source": [
    "### Solutions follow, please try yourself before referencing!\n",
    "#\n",
    "#\n",
    "#\n",
    "#\n",
    "#\n",
    "#\n",
    "#\n",
    "#\n",
    "#\n",
    "#\n",
    "#\n",
    "#\n",
    "#\n",
    "#\n",
    "#\n",
    "#\n",
    "#\n",
    "#\n",
    "#\n",
    "#\n",
    "#\n",
    "#\n",
    "#\n",
    "#\n",
    "#\n",
    "#\n",
    "#\n",
    "#\n",
    "#\n",
    "#\n",
    "#\n",
    "#\n",
    "#\n",
    "#\n",
    "#\n",
    "#\n",
    "#\n",
    "#\n",
    "#\n",
    "#\n",
    "#\n",
    "#\n",
    "#\n",
    "#\n",
    "#\n",
    "#\n",
    "#\n",
    "#"
   ]
  },
  {
   "cell_type": "code",
   "execution_count": 26,
   "id": "a565bfa1",
   "metadata": {},
   "outputs": [],
   "source": [
    "# Simple Pythonic solution\n",
    "def walk(vals):\n",
    "    results = []\n",
    "    last_val = vals[0]\n",
    "    counter = 0\n",
    "    for val in vals:\n",
    "        delta = val-last_val\n",
    "        counter = counter+1 if delta>0 else counter-1 if delta<0 else counter\n",
    "        results.append(counter)\n",
    "        last_val = val\n",
    "    return results\n",
    "\n",
    "# Using iterrows\n",
    "def walk_df(df):\n",
    "    results = []\n",
    "    last_val = df[\"vals_1\"].iloc[0]\n",
    "    counter = 0    \n",
    "    for i, row in df.iterrows():\n",
    "        val = row[\"vals_1\"]\n",
    "        delta = val-last_val\n",
    "        counter = counter+1 if delta>0 else counter-1 if delta<0 else counter\n",
    "        results.append(counter)\n",
    "        last_val = val\n",
    "    return counter   \n",
    "\n",
    "# Using series.items\n",
    "def walk_series(series):\n",
    "    results = []\n",
    "    last_val = series[0]\n",
    "    counter = 0    \n",
    "    for i, val in series.items():\n",
    "        delta = val-last_val\n",
    "        counter = counter+1 if delta>0 else counter-1 if delta<0 else counter\n",
    "        results.append(counter)\n",
    "        last_val = val\n",
    "    return counter   \n",
    "\n",
    "\n",
    "# Vectorized solution\n",
    "def vectorized_walk(series):\n",
    "    vals = np.insert(series[1:]-series[:-1], 0, 0)\n",
    "    return np.cumsum(np.where(vals>0, 1, -1)+np.where(vals==0,1,0))\n",
    "\n",
    "# We can access the LLVM with numba\n",
    "@njit\n",
    "def compiled_walk(vals):\n",
    "    results = np.zeros(len(vals))\n",
    "    last_val = vals[0]\n",
    "    counter = 0\n",
    "    for i, val in enumerate(vals):\n",
    "        delta = val-last_val\n",
    "        counter = counter+1 if delta>0 else counter-1 if delta<0 else counter\n",
    "        results[i] = counter\n",
    "        last_val = val\n",
    "    return results\n",
    "\n",
    "# What if we parallelized?\n",
    "@njit(parallel=True)\n",
    "def parallel_compiled_walk(vals):\n",
    "    results = np.zeros(len(vals))\n",
    "    last_val = vals[0]\n",
    "    counter = 0\n",
    "    for i, val in enumerate(vals):\n",
    "        delta = val-last_val\n",
    "        counter = counter+1 if delta>0 else counter-1 if delta<0 else counter\n",
    "        results[i] = counter\n",
    "        last_val = val\n",
    "    return results\n"
   ]
  },
  {
   "cell_type": "code",
   "execution_count": 27,
   "id": "9a7398d2",
   "metadata": {},
   "outputs": [
    {
     "name": "stdout",
     "output_type": "stream",
     "text": [
      "Iterrows, so slow don't do\n",
      "\n",
      "Iterate through items in a series\n",
      "1.2 s ± 68.1 ms per loop (mean ± std. dev. of 7 runs, 1 loop each)\n",
      "Iterate over array with simple Python\n",
      "1.14 s ± 169 ms per loop (mean ± std. dev. of 7 runs, 1 loop each)\n",
      "Iterate over a list\n",
      "728 ms ± 25.1 ms per loop (mean ± std. dev. of 7 runs, 1 loop each)\n",
      "We can actually fully vectorize this problem\n",
      "46.9 ms ± 3.86 ms per loop (mean ± std. dev. of 7 runs, 10 loops each)\n",
      "We can access the assembly via numba and the LLVM\n",
      "20.8 ms ± 635 µs per loop (mean ± std. dev. of 7 runs, 100 loops each)\n",
      "What if we parallelized it?\n",
      "16.9 ms ± 2.46 ms per loop (mean ± std. dev. of 7 runs, 1 loop each)\n"
     ]
    }
   ],
   "source": [
    "print(\"Iterrows, so slow don't do\\n\")\n",
    "#%timeit walk_df(df)\n",
    "print(\"Iterate through items in a series\")\n",
    "%timeit walk_series(df[\"vals_1\"])\n",
    "print(\"Iterate over array with simple Python\")\n",
    "%timeit walk(df[\"vals_1\"])\n",
    "vals_1 = df[\"vals_1\"].tolist()\n",
    "vals_1_np = df[\"vals_1\"].to_numpy()\n",
    "print(\"Iterate over a list\")\n",
    "%timeit walk(vals_1)\n",
    "print(\"We can actually fully vectorize this problem\")\n",
    "%timeit vectorized_walk(vals_1_np)\n",
    "print(\"We can access the assembly via numba and the LLVM\")\n",
    "%timeit compiled_walk(vals_1_np)\n",
    "print(\"What if we parallelized it?\")\n",
    "%timeit parallel_compiled_walk(vals_1_np)\n"
   ]
  },
  {
   "cell_type": "code",
   "execution_count": 28,
   "id": "3cc776bd",
   "metadata": {},
   "outputs": [],
   "source": [
    "n_ints = [100000, 1000000, 10000000, 100000000]\n",
    "\n",
    "args = [[np.random.rand(n)] for n in n_ints]\n",
    "kwargs = [{} for upper in n_ints]\n",
    "\n",
    "walk_runtimes =[elapsed.total_seconds() for \n",
    "                elapsed in profile_runtimes([walk for _ in n_ints], args, kwargs)]\n",
    "vectorized_walk_runtimes =[elapsed.total_seconds() for \n",
    "                           elapsed in profile_runtimes([vectorized_walk for _ in n_ints], args, kwargs)]\n",
    "compiled_walk_runtimes =[elapsed.total_seconds() for \n",
    "                elapsed in profile_runtimes([compiled_walk for _ in n_ints], args, kwargs)]\n",
    "parallel_compiled_walk_runtimes = [elapsed.total_seconds() for \n",
    "                elapsed in profile_runtimes([parallel_compiled_walk for _ in n_ints], args, kwargs)]"
   ]
  },
  {
   "cell_type": "code",
   "execution_count": 32,
   "id": "d48310d9",
   "metadata": {},
   "outputs": [
    {
     "data": {
      "text/plain": [
       "Text(0.5, 1.0, 'Profiling our functions')"
      ]
     },
     "execution_count": 32,
     "metadata": {},
     "output_type": "execute_result"
    },
    {
     "data": {
      "image/png": "[encoded data removed]",
      "text/plain": [
       "<Figure size 720x576 with 1 Axes>"
      ]
     },
     "metadata": {
      "needs_background": "light"
     },
     "output_type": "display_data"
    }
   ],
   "source": [
    "import matplotlib.pyplot as plt\n",
    "plt.rcParams[\"figure.figsize\"] = [10, 8]\n",
    "\n",
    "plt.plot(np.log10(n_ints), walk_runtimes, label=\"Native Python implementation\")\n",
    "plt.plot(np.log10(n_ints), vectorized_walk_runtimes, label=\"Vectorized np\")\n",
    "plt.plot(np.log10(n_ints), compiled_walk_runtimes, label=\"Compiled numba\")\n",
    "plt.plot(np.log10(n_ints), parallel_compiled_walk_runtimes, label=\"Parallelized/compiled numba\")\n",
    "\n",
    "plt.xlabel(\"Log base 10 row count\")\n",
    "plt.ylabel(\"Runtime in seconds\")\n",
    "plt.legend()\n",
    "plt.title(\"Profiling our functions\")"
   ]
  },
  {
   "cell_type": "code",
   "execution_count": 31,
   "id": "929dfc30",
   "metadata": {},
   "outputs": [
    {
     "data": {
      "text/plain": [
       "Text(0.5, 1.0, 'Profiling our functions')"
      ]
     },
     "execution_count": 31,
     "metadata": {},
     "output_type": "execute_result"
    },
    {
     "data": {
      "image/png": "[encoded data removed]",
      "text/plain": [
       "<Figure size 720x576 with 1 Axes>"
      ]
     },
     "metadata": {
      "needs_background": "light"
     },
     "output_type": "display_data"
    }
   ],
   "source": [
    "import matplotlib.pyplot as plt\n",
    "plt.rcParams[\"figure.figsize\"] = [10, 8]\n",
    "\n",
    "#plt.plot(np.log10(n_ints), walk_runtimes, label=\"Native Python implementation\")\n",
    "plt.plot(np.log10(n_ints), vectorized_walk_runtimes, label=\"Vectorized np\")\n",
    "plt.plot(np.log10(n_ints), compiled_walk_runtimes, label=\"Compiled numba\")\n",
    "plt.plot(np.log10(n_ints), parallel_compiled_walk_runtimes, label=\"Parallelized/compiled numba\")\n",
    "\n",
    "plt.xlabel(\"Log base 10 row count\")\n",
    "plt.ylabel(\"Runtime in seconds\")\n",
    "plt.legend()\n",
    "plt.title(\"Profiling our functions\")\n"
   ]
  },
  {
   "cell_type": "markdown",
   "id": "6c0395b8",
   "metadata": {},
   "source": [
    "### Key takeaways\n",
    "\n",
    "1. Iterrows is so slow, you should almost never use it\n",
    "\n",
    "\n",
    "2. series.items is better, but we want to not use Pandas series if possible.  Because of the complex data structures Pandas offers, if we arbitrarily try to iterate over Pandas objects we lose a lot of performance compared to core Pandas functions which are optimized for said structures.  \n",
    "\n",
    "\n",
    "3. If we need to perform iterations, we should do it via simple Python lists (which are highly optimized) or numpy arrays (which are strictly typed and have less overhead than Pandas series).\n",
    "\n",
    "\n",
    "4. For maximum performance, we should vectorize as much of the problem with native numpy or pandas functions as possible (several pandas functions are actually just simply calling numpy).  Even if we cannot vectorize the entire problem bc of extremely custom logic, there is bound to be portions that we can.\n",
    "\n",
    "\n",
    "5. Inherently, even when \"vectorizing\" is better than \"iterating,\" at the compiler level we are still \"looping through\" the data structure.  The most optimal performance is actually just to bypass the Python interpreter and compile our code to machine instructions.  This is achieved by invoking paradigms like numba or cython, which are interfaces to translate Python code to machine-compiled instructions via LLVM, a language agnostic middleware.  The tradeoff is a loss of functionality, as we are restricted to numpy data structures and base Python functions.\n",
    "\n",
    "https://numba.pydata.org/\n",
    "\n",
    "https://cython.org/\n",
    "\n",
    "6. If it's still too slow, you probably need more RAM or need to just write it in C/C++.  \n"
   ]
  },
  {
   "cell_type": "markdown",
   "id": "6f98292d",
   "metadata": {},
   "source": [
    "## Parallelization\n",
    "\n",
    "In the previous example why DIDN'T the numba parallelization simply divide the runtime by an order of 1 or 2? \n",
    "\n",
    "https://zetcode.com/python/multiprocessing/\n",
    "\n",
    "https://github.com/pydata/numexpr"
   ]
  },
  {
   "cell_type": "code",
   "execution_count": 33,
   "id": "d743f04a",
   "metadata": {},
   "outputs": [],
   "source": [
    "# 500 mill float big array\n",
    "big_array = np.random.rand(100000000)"
   ]
  },
  {
   "cell_type": "code",
   "execution_count": 37,
   "id": "de525959",
   "metadata": {},
   "outputs": [
    {
     "name": "stdout",
     "output_type": "stream",
     "text": [
      "What is the runtime without parallelization?\n",
      "770 ms ± 55.4 ms per loop (mean ± std. dev. of 7 runs, 1 loop each)\n"
     ]
    }
   ],
   "source": [
    "print(\"What is the runtime without parallelization?\")\n",
    "%timeit np.sin(big_array)"
   ]
  },
  {
   "cell_type": "code",
   "execution_count": 36,
   "id": "ab19e458",
   "metadata": {},
   "outputs": [
    {
     "name": "stdout",
     "output_type": "stream",
     "text": [
      "What is the runtime without parallelization?\n",
      "174 ms ± 5.37 ms per loop (mean ± std. dev. of 7 runs, 10 loops each)\n"
     ]
    }
   ],
   "source": [
    "import numexpr as ne\n",
    "\n",
    "print(\"What is the runtime with parallelization?\")\n",
    "%timeit ne.evaluate('sin(big_array)')\n"
   ]
  },
  {
   "cell_type": "markdown",
   "id": "f60586a8",
   "metadata": {},
   "source": [
    "Numexpr not only does max parallelization with cores (in this case, 4 cores), but also does more efficient memory allocation with less caching.  This is how we achieve >4x speed improvement.  "
   ]
  },
  {
   "cell_type": "markdown",
   "id": "a1d0cee3",
   "metadata": {},
   "source": [
    "We can use numexpr on numpy specific functions for performance gains, and simply use multiprocessing engine otherwise.  \n",
    "\n",
    "Useful paradigms in multiprocessing:\n",
    "- Process: define a worker\n",
    "- Pool: define a set of workers \n",
    "- Map: distributes a set of inputs amongst functions\n"
   ]
  },
  {
   "cell_type": "markdown",
   "id": "ec002861",
   "metadata": {},
   "source": [
    "What is the technical limit of performance gain from multiprocessing? \n",
    "\n",
    "Supposed I have a machine with n cores and a total runtime T and an input data size of m.  \n",
    "\n",
    "$T(m) = A(m) + C(m)$\n",
    "\n",
    "where $A(m)$ is independent, parallelizable runtime and $C(m)$ is dependent, synchronous runtime (un-parallelizable).\n",
    "\n",
    "The maximum achievable performance gain from parallelization is:\n",
    "\n",
    "$ T(m) = A(m)/n + C(m)$\n",
    "\n",
    "Note that runtime will almost always increase monotonically with the input data size by some order."
   ]
  },
  {
   "cell_type": "code",
   "execution_count": 44,
   "id": "b579dfdd",
   "metadata": {},
   "outputs": [
    {
     "data": {
      "text/plain": [
       "<matplotlib.legend.Legend at 0x1db91ee0c10>"
      ]
     },
     "execution_count": 44,
     "metadata": {},
     "output_type": "execute_result"
    },
    {
     "data": {
      "image/png": "[encoded data removed]",
      "text/plain": [
       "<Figure size 720x576 with 1 Axes>"
      ]
     },
     "metadata": {
      "needs_background": "light"
     },
     "output_type": "display_data"
    }
   ],
   "source": [
    "input_size = [10000, 500000, 1000000]\n",
    "a = lambda x: 1.5*x\n",
    "c = lambda x: x\n",
    "cores = [i for i in range(1, 17)]\n",
    "\n",
    "for m in input_size:\n",
    "    total_runtime = [a(m)+c(m)/n for n in cores]\n",
    "    plt.plot(cores, total_runtime, label=f\"For data input size {m}\")\n",
    "\n",
    "plt.xlabel(\"N cores\")\n",
    "plt.ylabel(\"Total runtime\")\n",
    "plt.title(\"Theoretical runtime vs cores\")\n",
    "plt.legend()"
   ]
  }
 ],
 "metadata": {
  "kernelspec": {
   "display_name": "Python 3",
   "language": "python",
   "name": "python3"
  },
  "language_info": {
   "codemirror_mode": {
    "name": "ipython",
    "version": 3
   },
   "file_extension": ".py",
   "mimetype": "text/x-python",
   "name": "python",
   "nbconvert_exporter": "python",
   "pygments_lexer": "ipython3",
   "version": "3.8.8"
  }
 },
 "nbformat": 4,
 "nbformat_minor": 5
}
